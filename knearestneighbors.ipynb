{
 "cells": [
  {
   "cell_type": "code",
   "execution_count": 1,
   "metadata": {},
   "outputs": [],
   "source": [
    "import numpy as np\n",
    "import random\n",
    "import math"
   ]
  },
  {
   "cell_type": "code",
   "execution_count": 4,
   "metadata": {},
   "outputs": [],
   "source": [
    "class KNearestNeighbors():\n",
    "    def __init__(self, k, existing_points):\n",
    "        self.k = k\n",
    "        #Existing Points ([x, y, z...], Class)\n",
    "        self.existing_points = existing_points\n",
    "\n",
    "    def fit(self, data):\n",
    "        fitted = []\n",
    "        for point in data:\n",
    "            distances = []\n",
    "            for existing_point in self.existing_points:\n",
    "                distances.append((calculate_euclidean_distance(point, existing_point[0]), existing_point))\n",
    "            distances.sort(key=lambda x: x[0])\n",
    "            k_nearest = distances[:self.k]\n",
    "            frequency = {point: 0 for point in k_nearest}\n",
    "            for point in k_nearest:\n",
    "                frequency[point[1][1]] += 1\n",
    "            most = 0\n",
    "            mostClass = None\n",
    "            for key in frequency:\n",
    "                if frequency[key] > most:\n",
    "                    most = frequency[key]\n",
    "                    mostClass = key\n",
    "            fitted.append((point, mostClass))  \n",
    "        return fitted\n",
    "\n",
    "def calculate_euclidean_distance(point1, point2):\n",
    "    distance = 0\n",
    "    for coord1, coord2 in zip(point1, point2):\n",
    "        distance += pow(coord1 - coord2, 2)\n",
    "    return math.sqrt(distance)\n"
   ]
  }
 ],
 "metadata": {
  "kernelspec": {
   "display_name": "Python 3",
   "language": "python",
   "name": "python3"
  },
  "language_info": {
   "codemirror_mode": {
    "name": "ipython",
    "version": 3
   },
   "file_extension": ".py",
   "mimetype": "text/x-python",
   "name": "python",
   "nbconvert_exporter": "python",
   "pygments_lexer": "ipython3",
   "version": "3.12.7"
  }
 },
 "nbformat": 4,
 "nbformat_minor": 2
}
